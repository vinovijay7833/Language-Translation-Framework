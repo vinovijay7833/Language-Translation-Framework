{
  "nbformat": 4,
  "nbformat_minor": 0,
  "metadata": {
    "colab": {
      "provenance": [],
      "authorship_tag": "ABX9TyMHZqwzjO1HoMHANngAVbhb",
      "include_colab_link": true
    },
    "kernelspec": {
      "name": "python3",
      "display_name": "Python 3"
    },
    "language_info": {
      "name": "python"
    }
  },
  "cells": [
    {
      "cell_type": "markdown",
      "metadata": {
        "id": "view-in-github",
        "colab_type": "text"
      },
      "source": [
        "<a href=\"https://colab.research.google.com/github/vinovijay7833/Language-Translation-Framework/blob/main/Language_translation_Framework_using_LLMS.ipynb\" target=\"_parent\"><img src=\"https://colab.research.google.com/assets/colab-badge.svg\" alt=\"Open In Colab\"/></a>"
      ]
    },
    {
      "cell_type": "markdown",
      "source": [
        "#Code Imports:\n"
      ],
      "metadata": {
        "id": "lAtg1AQu6pLt"
      }
    },
    {
      "cell_type": "code",
      "source": [
        "from transformers import MarianMTModel, MarianTokenizer\n"
      ],
      "metadata": {
        "id": "ON-XwCqB6spv"
      },
      "execution_count": null,
      "outputs": []
    },
    {
      "cell_type": "markdown",
      "source": [
        "#Model and Tokenizer Setup:\n"
      ],
      "metadata": {
        "id": "7NdzysH76zmS"
      }
    },
    {
      "cell_type": "code",
      "source": [
        "model_name = \"Helsinki-NLP/opus-mt-en-fr\"\n",
        "model = MarianMTModel.from_pretrained(model_name)\n",
        "tokenizer = MarianTokenizer.from_pretrained(model_name)\n"
      ],
      "metadata": {
        "id": "SJuosUFR6ypV"
      },
      "execution_count": null,
      "outputs": []
    },
    {
      "cell_type": "markdown",
      "source": [
        "#Translation Function:"
      ],
      "metadata": {
        "id": "Yads3va37Bm7"
      }
    },
    {
      "cell_type": "code",
      "source": [
        "def translate(text, model, tokenizer):\n",
        "    tokens = tokenizer(text, return_tensors=\"pt\", padding=True, truncation=True)\n",
        "    translated_tokens = model.generate(**tokens)\n",
        "    translated_text = tokenizer.decode(translated_tokens[0], skip_special_tokens=True)\n",
        "    return translated_text\n"
      ],
      "metadata": {
        "id": "xDAmDDu37FxK"
      },
      "execution_count": null,
      "outputs": []
    },
    {
      "cell_type": "markdown",
      "source": [
        "#User Input and Example Usage:"
      ],
      "metadata": {
        "id": "rqZXTsQs7Mwt"
      }
    },
    {
      "cell_type": "code",
      "source": [
        "text = input(\"Enter the Text\")\n",
        "translated_text = translate(text, model, tokenizer)\n",
        "print(f\"Translated Text: {translated_text}\")\n"
      ],
      "metadata": {
        "colab": {
          "base_uri": "https://localhost:8080/"
        },
        "id": "jz6ihmdn7N7b",
        "outputId": "16260daa-7cf0-47d0-ed9e-92239d19bef7"
      },
      "execution_count": null,
      "outputs": [
        {
          "output_type": "stream",
          "name": "stdout",
          "text": [
            "Enter the TextHi,welcome everyone\n",
            "Translated Text: Bonjour, bienvenue à tous.\n"
          ]
        }
      ]
    }
  ]
}